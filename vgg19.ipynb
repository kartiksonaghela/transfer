{
  "nbformat": 4,
  "nbformat_minor": 0,
  "metadata": {
    "colab": {
      "name": "vgg19.ipynb",
      "provenance": []
    },
    "kernelspec": {
      "name": "python3",
      "display_name": "Python 3"
    },
    "accelerator": "TPU"
  },
  "cells": [
    {
      "cell_type": "code",
      "metadata": {
        "id": "Uri_FM9KlUZA"
      },
      "source": [
        "# import the libraries as shown below\n",
        "\n",
        "from tensorflow.keras.layers import Input, Lambda, Dense, Flatten,Conv2D\n",
        "from tensorflow.keras.models import Model\n",
        "from tensorflow.keras.applications.vgg19 import VGG19\n",
        "from tensorflow.keras.applications.resnet50 import preprocess_input\n",
        "from tensorflow.keras.preprocessing import image\n",
        "from tensorflow.keras.preprocessing.image import ImageDataGenerator,load_img\n",
        "from tensorflow.keras.models import Sequential\n",
        "import numpy as np\n",
        "from glob import glob\n",
        "import matplotlib.pyplot as plt"
      ],
      "execution_count": null,
      "outputs": []
    },
    {
      "cell_type": "code",
      "metadata": {
        "id": "Vx2TOxENmmd6"
      },
      "source": [
        "/content/0001.png"
      ],
      "execution_count": null,
      "outputs": []
    },
    {
      "cell_type": "code",
      "metadata": {
        "id": "YmtiXW5AIiLU"
      },
      "source": [
        "import pandas as pd\n",
        "df=pd.read_csv('/content/flower_labels.csv')"
      ],
      "execution_count": null,
      "outputs": []
    },
    {
      "cell_type": "code",
      "metadata": {
        "colab": {
          "base_uri": "https://localhost:8080/",
          "height": 204
        },
        "id": "TlGpeav-IiNP",
        "outputId": "1c7ea739-78c9-460a-d3ba-a549c24a1274"
      },
      "source": [
        "df.head()"
      ],
      "execution_count": null,
      "outputs": [
        {
          "output_type": "execute_result",
          "data": {
            "text/html": [
              "<div>\n",
              "<style scoped>\n",
              "    .dataframe tbody tr th:only-of-type {\n",
              "        vertical-align: middle;\n",
              "    }\n",
              "\n",
              "    .dataframe tbody tr th {\n",
              "        vertical-align: top;\n",
              "    }\n",
              "\n",
              "    .dataframe thead th {\n",
              "        text-align: right;\n",
              "    }\n",
              "</style>\n",
              "<table border=\"1\" class=\"dataframe\">\n",
              "  <thead>\n",
              "    <tr style=\"text-align: right;\">\n",
              "      <th></th>\n",
              "      <th>file</th>\n",
              "      <th>label</th>\n",
              "    </tr>\n",
              "  </thead>\n",
              "  <tbody>\n",
              "    <tr>\n",
              "      <th>0</th>\n",
              "      <td>0001.png</td>\n",
              "      <td>0</td>\n",
              "    </tr>\n",
              "    <tr>\n",
              "      <th>1</th>\n",
              "      <td>0002.png</td>\n",
              "      <td>0</td>\n",
              "    </tr>\n",
              "    <tr>\n",
              "      <th>2</th>\n",
              "      <td>0003.png</td>\n",
              "      <td>2</td>\n",
              "    </tr>\n",
              "    <tr>\n",
              "      <th>3</th>\n",
              "      <td>0004.png</td>\n",
              "      <td>0</td>\n",
              "    </tr>\n",
              "    <tr>\n",
              "      <th>4</th>\n",
              "      <td>0005.png</td>\n",
              "      <td>0</td>\n",
              "    </tr>\n",
              "  </tbody>\n",
              "</table>\n",
              "</div>"
            ],
            "text/plain": [
              "       file  label\n",
              "0  0001.png      0\n",
              "1  0002.png      0\n",
              "2  0003.png      2\n",
              "3  0004.png      0\n",
              "4  0005.png      0"
            ]
          },
          "metadata": {
            "tags": []
          },
          "execution_count": 2
        }
      ]
    },
    {
      "cell_type": "code",
      "metadata": {
        "id": "yrtMjnE2IiQN"
      },
      "source": [
        "df = df.replace({0:'phlox',1:'rose',2:'calendula',3:'iris',4:'leucanthemum maximum',\n",
        "                 5:'bellflower',6:'viola',7:'rudbeckia laciniata',\n",
        "                 8:'peony',9:'aquilegia'})"
      ],
      "execution_count": null,
      "outputs": []
    },
    {
      "cell_type": "code",
      "metadata": {
        "colab": {
          "base_uri": "https://localhost:8080/"
        },
        "id": "tn5BV7RPIiSI",
        "outputId": "0affb1d3-5416-431b-ff69-925398cc1ed1"
      },
      "source": [
        "from sklearn.model_selection import train_test_split\n",
        "from tqdm import tqdm\n",
        "import numpy as np\n",
        "\n",
        "import cv2\n",
        "SEED = 42\n",
        "EPOCHS = 50\n",
        "BATCH_SIZE = 32 \n",
        "img_size = 224\n",
        "train_df, test_df = train_test_split(df, \n",
        "                                     test_size=0.5, \n",
        "                                     random_state=SEED, \n",
        "                                     stratify=df['label'].values)\n",
        "\n",
        "\n",
        "\n",
        "def create_datasets(df, img_size):\n",
        "    imgs = []\n",
        "    for file in tqdm(df['file']):\n",
        "        img = cv2.imread('/content/'+file)\n",
        "        img = cv2.cvtColor(img, cv2.COLOR_BGR2RGB)\n",
        "        img = cv2.resize(img, (img_size,img_size))\n",
        "        imgs.append(img)\n",
        "    # not normalize    \n",
        "    imgs = np.array(imgs)\n",
        "    df = pd.get_dummies(df['label'])\n",
        "    return imgs, df\n",
        "\n",
        "\n",
        "train_imgs, train_df = create_datasets(train_df, img_size)\n",
        "test_imgs, test_df = create_datasets(test_df, img_size)"
      ],
      "execution_count": null,
      "outputs": [
        {
          "output_type": "stream",
          "text": [
            "100%|██████████| 105/105 [00:00<00:00, 622.40it/s]\n",
            "100%|██████████| 105/105 [00:00<00:00, 736.19it/s]\n"
          ],
          "name": "stderr"
        }
      ]
    },
    {
      "cell_type": "code",
      "metadata": {
        "colab": {
          "base_uri": "https://localhost:8080/"
        },
        "id": "WnpbOIaZJ2Wa",
        "outputId": "00ba6480-c5d5-416f-933d-613b5d8c4e03"
      },
      "source": [
        "img_size = [224, 224]\n",
        "mobilnet = VGG19(input_shape=img_size + [3], weights='imagenet', include_top=False)"
      ],
      "execution_count": null,
      "outputs": [
        {
          "output_type": "stream",
          "text": [
            "Downloading data from https://storage.googleapis.com/tensorflow/keras-applications/vgg19/vgg19_weights_tf_dim_ordering_tf_kernels_notop.h5\n",
            "80142336/80134624 [==============================] - 1s 0us/step\n"
          ],
          "name": "stdout"
        }
      ]
    },
    {
      "cell_type": "code",
      "metadata": {
        "colab": {
          "base_uri": "https://localhost:8080/"
        },
        "id": "da9kac34IiVl",
        "outputId": "d1873bbb-64d4-4df9-a976-45607ff61499"
      },
      "source": [
        "from tensorflow.keras.layers import *\n",
        "from tensorflow.keras.applications.vgg19 import VGG19\n",
        "num_classes = len(df.label.value_counts())\n",
        "img_size= 224\n",
        "import tensorflow as tf\n",
        "def build_model(VGG19, img_size, n):\n",
        "    inp = Input(shape=(img_size,img_size, n))\n",
        "    mobilnet = VGG19(input_shape=(img_size,img_size,n),\n",
        "                    weights='imagenet',\n",
        "                    include_top=False)\n",
        "    # freeze ResNet\n",
        "    mobilnet.trainable = False\n",
        "    x = mobilnet(inp)\n",
        "    x = tf.keras.layers.GlobalAveragePooling2D()(x)\n",
        "    x =Dropout(0.5)(x)\n",
        "    x = Dense(num_classes, activation='softmax')(x)\n",
        "    model = tf.keras.Model(inputs=inp, outputs=x)\n",
        "    model.compile(optimizer='adam', loss='categorical_crossentropy', metrics=['accuracy'])\n",
        "    return model\n",
        "\n",
        "\n",
        "vgg19 = build_model(VGG19, img_size, 3)\n",
        "vgg19.summary()"
      ],
      "execution_count": null,
      "outputs": [
        {
          "output_type": "stream",
          "text": [
            "Model: \"functional_3\"\n",
            "_________________________________________________________________\n",
            "Layer (type)                 Output Shape              Param #   \n",
            "=================================================================\n",
            "input_4 (InputLayer)         [(None, 224, 224, 3)]     0         \n",
            "_________________________________________________________________\n",
            "vgg19 (Functional)           (None, 7, 7, 512)         20024384  \n",
            "_________________________________________________________________\n",
            "global_average_pooling2d_1 ( (None, 512)               0         \n",
            "_________________________________________________________________\n",
            "dropout_1 (Dropout)          (None, 512)               0         \n",
            "_________________________________________________________________\n",
            "dense_1 (Dense)              (None, 10)                5130      \n",
            "=================================================================\n",
            "Total params: 20,029,514\n",
            "Trainable params: 5,130\n",
            "Non-trainable params: 20,024,384\n",
            "_________________________________________________________________\n"
          ],
          "name": "stdout"
        }
      ]
    },
    {
      "cell_type": "code",
      "metadata": {
        "colab": {
          "base_uri": "https://localhost:8080/"
        },
        "id": "aevzYek6JJEq",
        "outputId": "9f1030cb-005a-450f-ef3f-d1c1a14e61bd"
      },
      "source": [
        "checkpoint = tf.keras.callbacks.ModelCheckpoint('vgg19.h5', \n",
        "                                                monitor='loss', \n",
        "                                                save_best_only=True,\n",
        "                                                save_weights_only=True)\n",
        "vgg19.fit(train_imgs, train_df, batch_size=BATCH_SIZE,\n",
        "          epochs=30, verbose=0, callbacks=[checkpoint])\n",
        "vgg19.load_weights('vgg19.h5')\n",
        "\n",
        "\n",
        "vgg19.evaluate(test_imgs, test_df)"
      ],
      "execution_count": null,
      "outputs": [
        {
          "output_type": "stream",
          "text": [
            "4/4 [==============================] - 45s 11s/step - loss: 0.7991 - accuracy: 0.7238\n"
          ],
          "name": "stdout"
        },
        {
          "output_type": "execute_result",
          "data": {
            "text/plain": [
              "[0.7991319298744202, 0.723809540271759]"
            ]
          },
          "metadata": {
            "tags": []
          },
          "execution_count": 22
        }
      ]
    },
    {
      "cell_type": "code",
      "metadata": {
        "id": "FhRP097-K1L9"
      },
      "source": [
        ""
      ],
      "execution_count": null,
      "outputs": []
    }
  ]
}