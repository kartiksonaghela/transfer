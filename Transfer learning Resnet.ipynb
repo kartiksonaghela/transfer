{
 "cells": [
  {
   "cell_type": "code",
   "execution_count": 1,
   "metadata": {
    "id": "mDEkv_pFL6gk"
   },
   "outputs": [],
   "source": [
    "import os\n",
    "import cv2\n",
    "import numpy as np\n",
    "import pandas as pd\n",
    "import matplotlib.pyplot as plt\n",
    "from sklearn.model_selection import train_test_split\n",
    "import tensorflow as tf\n",
    "from tensorflow.keras.layers import *\n",
    "from tensorflow.keras.applications import ResNet50, ResNet101, ResNet152\n",
    "from tqdm import tqdm"
   ]
  },
  {
   "cell_type": "code",
   "execution_count": 2,
   "metadata": {
    "id": "svS0yM1ZMUgu"
   },
   "outputs": [],
   "source": [
    "SEED = 42\n",
    "EPOCHS = 50\n",
    "BATCH_SIZE = 32 \n",
    "IMG_SIZE = 256\n",
    "ROOT = 'flower_images/'\n",
    "\n",
    "df = pd.read_csv(ROOT + 'flower_labels.csv')\n"
   ]
  },
  {
   "cell_type": "code",
   "execution_count": 17,
   "metadata": {},
   "outputs": [
    {
     "data": {
      "text/html": [
       "<div>\n",
       "<style scoped>\n",
       "    .dataframe tbody tr th:only-of-type {\n",
       "        vertical-align: middle;\n",
       "    }\n",
       "\n",
       "    .dataframe tbody tr th {\n",
       "        vertical-align: top;\n",
       "    }\n",
       "\n",
       "    .dataframe thead th {\n",
       "        text-align: right;\n",
       "    }\n",
       "</style>\n",
       "<table border=\"1\" class=\"dataframe\">\n",
       "  <thead>\n",
       "    <tr style=\"text-align: right;\">\n",
       "      <th></th>\n",
       "      <th>file</th>\n",
       "      <th>label</th>\n",
       "    </tr>\n",
       "  </thead>\n",
       "  <tbody>\n",
       "    <tr>\n",
       "      <th>200</th>\n",
       "      <td>0201.png</td>\n",
       "      <td>rose</td>\n",
       "    </tr>\n",
       "    <tr>\n",
       "      <th>201</th>\n",
       "      <td>0202.png</td>\n",
       "      <td>iris</td>\n",
       "    </tr>\n",
       "    <tr>\n",
       "      <th>202</th>\n",
       "      <td>0203.png</td>\n",
       "      <td>peony</td>\n",
       "    </tr>\n",
       "    <tr>\n",
       "      <th>203</th>\n",
       "      <td>0204.png</td>\n",
       "      <td>bellflower</td>\n",
       "    </tr>\n",
       "    <tr>\n",
       "      <th>204</th>\n",
       "      <td>0205.png</td>\n",
       "      <td>leucanthemum maximum</td>\n",
       "    </tr>\n",
       "    <tr>\n",
       "      <th>205</th>\n",
       "      <td>0206.png</td>\n",
       "      <td>viola</td>\n",
       "    </tr>\n",
       "    <tr>\n",
       "      <th>206</th>\n",
       "      <td>0207.png</td>\n",
       "      <td>phlox</td>\n",
       "    </tr>\n",
       "    <tr>\n",
       "      <th>207</th>\n",
       "      <td>0208.png</td>\n",
       "      <td>leucanthemum maximum</td>\n",
       "    </tr>\n",
       "    <tr>\n",
       "      <th>208</th>\n",
       "      <td>0209.png</td>\n",
       "      <td>viola</td>\n",
       "    </tr>\n",
       "    <tr>\n",
       "      <th>209</th>\n",
       "      <td>0210.png</td>\n",
       "      <td>rose</td>\n",
       "    </tr>\n",
       "  </tbody>\n",
       "</table>\n",
       "</div>"
      ],
      "text/plain": [
       "         file                 label\n",
       "200  0201.png                  rose\n",
       "201  0202.png                  iris\n",
       "202  0203.png                 peony\n",
       "203  0204.png            bellflower\n",
       "204  0205.png  leucanthemum maximum\n",
       "205  0206.png                 viola\n",
       "206  0207.png                 phlox\n",
       "207  0208.png  leucanthemum maximum\n",
       "208  0209.png                 viola\n",
       "209  0210.png                  rose"
      ]
     },
     "execution_count": 17,
     "metadata": {},
     "output_type": "execute_result"
    }
   ],
   "source": [
    "df.tail(10)"
   ]
  },
  {
   "cell_type": "code",
   "execution_count": 3,
   "metadata": {
    "id": "UDY5tgRpMqsg"
   },
   "outputs": [],
   "source": [
    "df = df.replace({0:'phlox',1:'rose',2:'calendula',3:'iris',4:'leucanthemum maximum',\n",
    "                 5:'bellflower',6:'viola',7:'rudbeckia laciniata',\n",
    "                 8:'peony',9:'aquilegia'})\n"
   ]
  },
  {
   "cell_type": "code",
   "execution_count": 14,
   "metadata": {},
   "outputs": [
    {
     "data": {
      "text/plain": [
       "peony                   26\n",
       "bellflower              25\n",
       "viola                   23\n",
       "iris                    22\n",
       "leucanthemum maximum    21\n",
       "phlox                   21\n",
       "rose                    20\n",
       "calendula               19\n",
       "aquilegia               18\n",
       "rudbeckia laciniata     15\n",
       "Name: label, dtype: int64"
      ]
     },
     "execution_count": 14,
     "metadata": {},
     "output_type": "execute_result"
    }
   ],
   "source": [
    "df.label.value_counts()"
   ]
  },
  {
   "cell_type": "code",
   "execution_count": 4,
   "metadata": {
    "colab": {
     "base_uri": "https://localhost:8080/"
    },
    "id": "-bBTauOzMuSb",
    "outputId": "309f7e58-d376-47c6-8cae-bcb145cfb359"
   },
   "outputs": [
    {
     "name": "stderr",
     "output_type": "stream",
     "text": [
      "100%|████████████████████████████████████████████████████████████████████████████████| 105/105 [00:02<00:00, 42.58it/s]\n",
      "100%|████████████████████████████████████████████████████████████████████████████████| 105/105 [00:01<00:00, 54.05it/s]\n"
     ]
    }
   ],
   "source": [
    "train_df, test_df = train_test_split(df, \n",
    "                                     test_size=0.5, \n",
    "                                     random_state=SEED, \n",
    "                                     stratify=df['label'].values)\n",
    "\n",
    "\n",
    "\n",
    "def create_datasets(df, img_size):\n",
    "    imgs = []\n",
    "    for file in tqdm(df['file']):\n",
    "        img = cv2.imread(ROOT+file)\n",
    "        #img = cv2.cvtColor(img, cv2.COLOR_BGR2RGB)\n",
    "        img = cv2.resize(img, (img_size,img_size))\n",
    "        imgs.append(img)\n",
    "    # not normalize    \n",
    "    imgs = np.array(imgs)\n",
    "    df = pd.get_dummies(df['label'])\n",
    "    return imgs, df\n",
    "\n",
    "\n",
    "train_imgs, train_df = create_datasets(train_df, IMG_SIZE)\n",
    "test_imgs, test_df = create_datasets(test_df, IMG_SIZE)"
   ]
  },
  {
   "cell_type": "code",
   "execution_count": 5,
   "metadata": {
    "colab": {
     "base_uri": "https://localhost:8080/"
    },
    "id": "KvXeYZNAM1JV",
    "outputId": "88fd6dcb-e295-442e-b8c0-35ee148ab157"
   },
   "outputs": [
    {
     "name": "stdout",
     "output_type": "stream",
     "text": [
      "Model: \"functional_1\"\n",
      "_________________________________________________________________\n",
      "Layer (type)                 Output Shape              Param #   \n",
      "=================================================================\n",
      "input_1 (InputLayer)         [(None, 256, 256, 3)]     0         \n",
      "_________________________________________________________________\n",
      "resnet50 (Functional)        (None, 8, 8, 2048)        23587712  \n",
      "_________________________________________________________________\n",
      "global_average_pooling2d (Gl (None, 2048)              0         \n",
      "_________________________________________________________________\n",
      "dropout (Dropout)            (None, 2048)              0         \n",
      "_________________________________________________________________\n",
      "dense (Dense)                (None, 10)                20490     \n",
      "=================================================================\n",
      "Total params: 23,608,202\n",
      "Trainable params: 20,490\n",
      "Non-trainable params: 23,587,712\n",
      "_________________________________________________________________\n"
     ]
    }
   ],
   "source": [
    "num_classes = len(df.label.value_counts())\n",
    "def build_model(ResNet, img_size, n):\n",
    "    inp = Input(shape=(img_size,img_size, n))\n",
    "    resnet = ResNet(input_shape=(img_size,img_size,n),\n",
    "                    weights='imagenet',\n",
    "                    include_top=False)\n",
    "    # freeze ResNet\n",
    "    resnet.trainable = False\n",
    "    x = resnet(inp)\n",
    "    x = GlobalAveragePooling2D()(x)\n",
    "    x = Dropout(0.5)(x)\n",
    "    x = Dense(num_classes, activation='softmax')(x)\n",
    "    model = tf.keras.Model(inputs=inp, outputs=x)\n",
    "    model.compile(optimizer='adam', loss='categorical_crossentropy', metrics=['accuracy'])\n",
    "    return model\n",
    "\n",
    "\n",
    "resnet50 = build_model(ResNet50, IMG_SIZE, 3)\n",
    "resnet50.summary()"
   ]
  },
  {
   "cell_type": "code",
   "execution_count": 15,
   "metadata": {},
   "outputs": [
    {
     "data": {
      "text/html": [
       "<div>\n",
       "<style scoped>\n",
       "    .dataframe tbody tr th:only-of-type {\n",
       "        vertical-align: middle;\n",
       "    }\n",
       "\n",
       "    .dataframe tbody tr th {\n",
       "        vertical-align: top;\n",
       "    }\n",
       "\n",
       "    .dataframe thead th {\n",
       "        text-align: right;\n",
       "    }\n",
       "</style>\n",
       "<table border=\"1\" class=\"dataframe\">\n",
       "  <thead>\n",
       "    <tr style=\"text-align: right;\">\n",
       "      <th></th>\n",
       "      <th>aquilegia</th>\n",
       "      <th>bellflower</th>\n",
       "      <th>calendula</th>\n",
       "      <th>iris</th>\n",
       "      <th>leucanthemum maximum</th>\n",
       "      <th>peony</th>\n",
       "      <th>phlox</th>\n",
       "      <th>rose</th>\n",
       "      <th>rudbeckia laciniata</th>\n",
       "      <th>viola</th>\n",
       "    </tr>\n",
       "  </thead>\n",
       "  <tbody>\n",
       "    <tr>\n",
       "      <th>30</th>\n",
       "      <td>0</td>\n",
       "      <td>0</td>\n",
       "      <td>0</td>\n",
       "      <td>1</td>\n",
       "      <td>0</td>\n",
       "      <td>0</td>\n",
       "      <td>0</td>\n",
       "      <td>0</td>\n",
       "      <td>0</td>\n",
       "      <td>0</td>\n",
       "    </tr>\n",
       "    <tr>\n",
       "      <th>114</th>\n",
       "      <td>0</td>\n",
       "      <td>1</td>\n",
       "      <td>0</td>\n",
       "      <td>0</td>\n",
       "      <td>0</td>\n",
       "      <td>0</td>\n",
       "      <td>0</td>\n",
       "      <td>0</td>\n",
       "      <td>0</td>\n",
       "      <td>0</td>\n",
       "    </tr>\n",
       "    <tr>\n",
       "      <th>23</th>\n",
       "      <td>0</td>\n",
       "      <td>0</td>\n",
       "      <td>0</td>\n",
       "      <td>0</td>\n",
       "      <td>1</td>\n",
       "      <td>0</td>\n",
       "      <td>0</td>\n",
       "      <td>0</td>\n",
       "      <td>0</td>\n",
       "      <td>0</td>\n",
       "    </tr>\n",
       "    <tr>\n",
       "      <th>85</th>\n",
       "      <td>0</td>\n",
       "      <td>1</td>\n",
       "      <td>0</td>\n",
       "      <td>0</td>\n",
       "      <td>0</td>\n",
       "      <td>0</td>\n",
       "      <td>0</td>\n",
       "      <td>0</td>\n",
       "      <td>0</td>\n",
       "      <td>0</td>\n",
       "    </tr>\n",
       "    <tr>\n",
       "      <th>56</th>\n",
       "      <td>0</td>\n",
       "      <td>1</td>\n",
       "      <td>0</td>\n",
       "      <td>0</td>\n",
       "      <td>0</td>\n",
       "      <td>0</td>\n",
       "      <td>0</td>\n",
       "      <td>0</td>\n",
       "      <td>0</td>\n",
       "      <td>0</td>\n",
       "    </tr>\n",
       "    <tr>\n",
       "      <th>...</th>\n",
       "      <td>...</td>\n",
       "      <td>...</td>\n",
       "      <td>...</td>\n",
       "      <td>...</td>\n",
       "      <td>...</td>\n",
       "      <td>...</td>\n",
       "      <td>...</td>\n",
       "      <td>...</td>\n",
       "      <td>...</td>\n",
       "      <td>...</td>\n",
       "    </tr>\n",
       "    <tr>\n",
       "      <th>209</th>\n",
       "      <td>0</td>\n",
       "      <td>0</td>\n",
       "      <td>0</td>\n",
       "      <td>0</td>\n",
       "      <td>0</td>\n",
       "      <td>0</td>\n",
       "      <td>0</td>\n",
       "      <td>1</td>\n",
       "      <td>0</td>\n",
       "      <td>0</td>\n",
       "    </tr>\n",
       "    <tr>\n",
       "      <th>57</th>\n",
       "      <td>0</td>\n",
       "      <td>0</td>\n",
       "      <td>0</td>\n",
       "      <td>0</td>\n",
       "      <td>0</td>\n",
       "      <td>1</td>\n",
       "      <td>0</td>\n",
       "      <td>0</td>\n",
       "      <td>0</td>\n",
       "      <td>0</td>\n",
       "    </tr>\n",
       "    <tr>\n",
       "      <th>28</th>\n",
       "      <td>0</td>\n",
       "      <td>0</td>\n",
       "      <td>0</td>\n",
       "      <td>0</td>\n",
       "      <td>0</td>\n",
       "      <td>0</td>\n",
       "      <td>0</td>\n",
       "      <td>0</td>\n",
       "      <td>0</td>\n",
       "      <td>1</td>\n",
       "    </tr>\n",
       "    <tr>\n",
       "      <th>37</th>\n",
       "      <td>1</td>\n",
       "      <td>0</td>\n",
       "      <td>0</td>\n",
       "      <td>0</td>\n",
       "      <td>0</td>\n",
       "      <td>0</td>\n",
       "      <td>0</td>\n",
       "      <td>0</td>\n",
       "      <td>0</td>\n",
       "      <td>0</td>\n",
       "    </tr>\n",
       "    <tr>\n",
       "      <th>148</th>\n",
       "      <td>1</td>\n",
       "      <td>0</td>\n",
       "      <td>0</td>\n",
       "      <td>0</td>\n",
       "      <td>0</td>\n",
       "      <td>0</td>\n",
       "      <td>0</td>\n",
       "      <td>0</td>\n",
       "      <td>0</td>\n",
       "      <td>0</td>\n",
       "    </tr>\n",
       "  </tbody>\n",
       "</table>\n",
       "<p>105 rows × 10 columns</p>\n",
       "</div>"
      ],
      "text/plain": [
       "     aquilegia  bellflower  calendula  iris  leucanthemum maximum  peony  \\\n",
       "30           0           0          0     1                     0      0   \n",
       "114          0           1          0     0                     0      0   \n",
       "23           0           0          0     0                     1      0   \n",
       "85           0           1          0     0                     0      0   \n",
       "56           0           1          0     0                     0      0   \n",
       "..         ...         ...        ...   ...                   ...    ...   \n",
       "209          0           0          0     0                     0      0   \n",
       "57           0           0          0     0                     0      1   \n",
       "28           0           0          0     0                     0      0   \n",
       "37           1           0          0     0                     0      0   \n",
       "148          1           0          0     0                     0      0   \n",
       "\n",
       "     phlox  rose  rudbeckia laciniata  viola  \n",
       "30       0     0                    0      0  \n",
       "114      0     0                    0      0  \n",
       "23       0     0                    0      0  \n",
       "85       0     0                    0      0  \n",
       "56       0     0                    0      0  \n",
       "..     ...   ...                  ...    ...  \n",
       "209      0     1                    0      0  \n",
       "57       0     0                    0      0  \n",
       "28       0     0                    0      1  \n",
       "37       0     0                    0      0  \n",
       "148      0     0                    0      0  \n",
       "\n",
       "[105 rows x 10 columns]"
      ]
     },
     "execution_count": 15,
     "metadata": {},
     "output_type": "execute_result"
    }
   ],
   "source": [
    "train_df"
   ]
  },
  {
   "cell_type": "code",
   "execution_count": 23,
   "metadata": {
    "colab": {
     "base_uri": "https://localhost:8080/"
    },
    "id": "GN2maZGlM4nN",
    "outputId": "2d02cf4c-bd99-4fd6-c675-546b5d5c55d8"
   },
   "outputs": [
    {
     "name": "stdout",
     "output_type": "stream",
     "text": [
      "4/4 [==============================] - 10s 2s/step - loss: 0.4834 - accuracy: 0.8952\n"
     ]
    },
    {
     "data": {
      "text/plain": [
       "[0.483414888381958, 0.8952381014823914]"
      ]
     },
     "execution_count": 23,
     "metadata": {},
     "output_type": "execute_result"
    }
   ],
   "source": [
    "checkpoint = tf.keras.callbacks.ModelCheckpoint('resnet50.h5', \n",
    "                                                monitor='loss', \n",
    "                                                save_best_only=True,\n",
    "                                                save_weights_only=True)\n",
    "\n",
    "resnet50.fit(train_imgs, train_df, batch_size=BATCH_SIZE,\n",
    "          epochs=10, verbose=0, callbacks=[checkpoint])\n",
    "resnet50.load_weights('resnet50.h5')\n",
    "\n",
    "\n",
    "resnet50.evaluate(test_imgs, test_df)"
   ]
  },
  {
   "cell_type": "code",
   "execution_count": 25,
   "metadata": {
    "id": "USVrOcVONDV8"
   },
   "outputs": [],
   "source": [
    "from tensorflow.keras.models import load_model\n",
    "\n",
    "resnet50.save('model_resnet50.h5')"
   ]
  },
  {
   "cell_type": "code",
   "execution_count": 18,
   "metadata": {},
   "outputs": [
    {
     "name": "stdout",
     "output_type": "stream",
     "text": [
      "Downloading data from https://storage.googleapis.com/tensorflow/keras-applications/resnet/resnet101_weights_tf_dim_ordering_tf_kernels_notop.h5\n",
      "171450368/171446536 [==============================] - 52s 0us/step\n",
      "Model: \"functional_3\"\n",
      "_________________________________________________________________\n",
      "Layer (type)                 Output Shape              Param #   \n",
      "=================================================================\n",
      "input_3 (InputLayer)         [(None, 256, 256, 3)]     0         \n",
      "_________________________________________________________________\n",
      "resnet101 (Functional)       (None, 8, 8, 2048)        42658176  \n",
      "_________________________________________________________________\n",
      "global_average_pooling2d_1 ( (None, 2048)              0         \n",
      "_________________________________________________________________\n",
      "dropout_1 (Dropout)          (None, 2048)              0         \n",
      "_________________________________________________________________\n",
      "dense_1 (Dense)              (None, 10)                20490     \n",
      "=================================================================\n",
      "Total params: 42,678,666\n",
      "Trainable params: 20,490\n",
      "Non-trainable params: 42,658,176\n",
      "_________________________________________________________________\n"
     ]
    }
   ],
   "source": [
    "#using resnet101\n",
    "resnet101 = build_model(ResNet101, IMG_SIZE, 3)\n",
    "resnet101.summary()\n"
   ]
  },
  {
   "cell_type": "code",
   "execution_count": 20,
   "metadata": {},
   "outputs": [
    {
     "name": "stdout",
     "output_type": "stream",
     "text": [
      "4/4 [==============================] - 17s 4s/step - loss: 0.8619 - accuracy: 0.8095\n"
     ]
    },
    {
     "data": {
      "text/plain": [
       "[0.8619145154953003, 0.8095238208770752]"
      ]
     },
     "execution_count": 20,
     "metadata": {},
     "output_type": "execute_result"
    }
   ],
   "source": [
    "checkpoint = tf.keras.callbacks.ModelCheckpoint('resnet101.h5', \n",
    "                                                monitor='loss', \n",
    "                                                save_best_only=True,\n",
    "                                                save_weights_only=True)\n",
    "\n",
    "resnet101.fit(train_imgs, train_df, batch_size=BATCH_SIZE,\n",
    "              epochs=10, verbose=0, callbacks=[checkpoint])\n",
    "resnet101.load_weights('resnet101.h5')\n",
    "\n",
    "resnet101.evaluate(test_imgs, test_df)"
   ]
  },
  {
   "cell_type": "code",
   "execution_count": 21,
   "metadata": {},
   "outputs": [
    {
     "name": "stdout",
     "output_type": "stream",
     "text": [
      "Downloading data from https://storage.googleapis.com/tensorflow/keras-applications/resnet/resnet152_weights_tf_dim_ordering_tf_kernels_notop.h5\n",
      "234700800/234698864 [==============================] - 83s 0us/step\n",
      "Model: \"functional_5\"\n",
      "_________________________________________________________________\n",
      "Layer (type)                 Output Shape              Param #   \n",
      "=================================================================\n",
      "input_5 (InputLayer)         [(None, 256, 256, 3)]     0         \n",
      "_________________________________________________________________\n",
      "resnet152 (Functional)       (None, 8, 8, 2048)        58370944  \n",
      "_________________________________________________________________\n",
      "global_average_pooling2d_2 ( (None, 2048)              0         \n",
      "_________________________________________________________________\n",
      "dropout_2 (Dropout)          (None, 2048)              0         \n",
      "_________________________________________________________________\n",
      "dense_2 (Dense)              (None, 10)                20490     \n",
      "=================================================================\n",
      "Total params: 58,391,434\n",
      "Trainable params: 20,490\n",
      "Non-trainable params: 58,370,944\n",
      "_________________________________________________________________\n"
     ]
    }
   ],
   "source": [
    "#usingresnet152\n",
    "resnet152 = build_model(ResNet152, IMG_SIZE, 3)\n",
    "resnet152.summary()"
   ]
  },
  {
   "cell_type": "code",
   "execution_count": 24,
   "metadata": {},
   "outputs": [
    {
     "name": "stdout",
     "output_type": "stream",
     "text": [
      "4/4 [==============================] - 25s 6s/step - loss: 0.4489 - accuracy: 0.8667\n"
     ]
    },
    {
     "data": {
      "text/plain": [
       "[0.4488743245601654, 0.8666666746139526]"
      ]
     },
     "execution_count": 24,
     "metadata": {},
     "output_type": "execute_result"
    }
   ],
   "source": [
    "checkpoint = tf.keras.callbacks.ModelCheckpoint('resnet152.h5', \n",
    "                                                monitor='loss', \n",
    "                                                save_best_only=True,\n",
    "                                                save_weights_only=True)\n",
    "\n",
    "resnet152.fit(train_imgs, train_df, batch_size=BATCH_SIZE,\n",
    "              epochs=10, verbose=0, callbacks=[checkpoint])\n",
    "resnet152.load_weights('resnet152.h5')\n",
    "\n",
    "resnet152.evaluate(test_imgs, test_df)"
   ]
  }
 ],
 "metadata": {
  "accelerator": "TPU",
  "colab": {
   "name": "Untitled1.ipynb",
   "provenance": []
  },
  "kernelspec": {
   "display_name": "Python 3",
   "language": "python",
   "name": "python3"
  },
  "language_info": {
   "codemirror_mode": {
    "name": "ipython",
    "version": 3
   },
   "file_extension": ".py",
   "mimetype": "text/x-python",
   "name": "python",
   "nbconvert_exporter": "python",
   "pygments_lexer": "ipython3",
   "version": "3.7.4"
  }
 },
 "nbformat": 4,
 "nbformat_minor": 1
}
